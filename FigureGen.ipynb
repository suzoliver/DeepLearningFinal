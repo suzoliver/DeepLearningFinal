{
  "nbformat": 4,
  "nbformat_minor": 0,
  "metadata": {
    "colab": {
      "provenance": []
    },
    "kernelspec": {
      "name": "python3",
      "display_name": "Python 3"
    },
    "language_info": {
      "name": "python"
    }
  },
  "cells": [
    {
      "cell_type": "markdown",
      "source": [
        "# Pre-Processing Pipeline Figure Code"
      ],
      "metadata": {
        "id": "Gwj2vX_Xc7C1"
      }
    },
    {
      "cell_type": "code",
      "execution_count": null,
      "metadata": {
        "id": "Du0Hs0zf-46m"
      },
      "outputs": [],
      "source": [
        "# import libraries\n",
        "import numpy as np\n",
        "import random\n",
        "import csv\n",
        "import sklearn # ONLY IMPORT IF YOU WANT FLIP BUG FROM GUMPY\n",
        "import matplotlib.pyplot as plt"
      ]
    },
    {
      "cell_type": "code",
      "source": [
        "# load more libraries\n",
        "!pip install git+https://github.com/gumpy-bci/gumpy\n",
        "!pip install pyEDFlib"
      ],
      "metadata": {
        "id": "6dDJrKj9_DrT"
      },
      "execution_count": null,
      "outputs": []
    },
    {
      "cell_type": "code",
      "source": [
        "# import loaded libraries\n",
        "import gumpy\n",
        "import pyedflib"
      ],
      "metadata": {
        "id": "JB8--KoK_F6F"
      },
      "execution_count": null,
      "outputs": []
    },
    {
      "cell_type": "code",
      "source": [
        "# get data at each step in the pre-processing stage for one trial\n",
        "\n",
        "subjID = \"001\"\n",
        "fileID = \"03\"\n",
        "freq=160\n",
        "subLen = 80\n",
        "\n",
        "# open file\n",
        "f = pyedflib.EdfReader(\"/content/drive/MyDrive/DL Final/files/S\"+ subjID + \"/S\" + subjID + \"R\" + fileID +\".edf\")\n",
        "annotations = f.readAnnotations()\n",
        "trialStartTimes = annotations[0] # get start time of each trial\n",
        "trialTypes = annotations[2] # get trial type (right, left or rest) for each trial\n",
        "\n",
        "# initalize variables\n",
        "raw_signal = np.zeros((64, subLen))\n",
        "notch_signal = np.zeros((64, subLen))\n",
        "filt_signal = np.zeros((64, subLen))\n",
        "clean_signal = np.zeros((64, subLen))\n",
        "\n",
        "\n",
        "\n",
        "for iTrial in range(2): # first trial is rest, loop to second\n",
        "  if trialTypes[iTrial] != 'T0': # confirm trial is not rest\n",
        "    startInd = int(trialStartTimes[iTrial] * freq)\n",
        "    for iChan in range(64):\n",
        "        read_sig = f.readSignal(iChan)\n",
        "        raw_signal[iChan, :] = read_sig[startInd:(startInd+(subLen))] # crop raw signal to relevant portion\n",
        "        notch_signal[iChan, :] = gumpy.signal.notch(raw_signal[iChan, :], cutoff=60, fs=160) # notch filter\n",
        "        filt_signal[iChan, :] = gumpy.signal.butter_bandpass(notch_signal[iChan, :], 2, 60, fs=160, order = 5) # bandpass filter\n",
        "        clean_signal[iChan, :] = np.squeeze(gumpy.signal.artifact_removal(filt_signal[iChan, :].reshape((-1, 1)))[0]) # artifact removal\n",
        "\n",
        "\n",
        "f.close() # close the file"
      ],
      "metadata": {
        "id": "gEt62_0J_HUO"
      },
      "execution_count": null,
      "outputs": []
    },
    {
      "cell_type": "code",
      "source": [
        "# Create pre-processing steps figure for first four channels\n",
        "# flip bug makes this change for every run of the above cell\n",
        "\n",
        "iChan = 0\n",
        "\n",
        "fig, axs = plt.subplots(3,4)\n",
        "\n",
        "for iChan in range(4):\n",
        "  axs[0,iChan].plot(raw_signal[iChan,:])\n",
        "  axs[0,iChan].set_title(\"Channel \" + str(iChan+1))\n",
        "  axs[1,iChan].plot(filt_signal[iChan,:])\n",
        "  axs[2,iChan].plot(clean_signal[iChan,:])\n",
        "  axs[2,iChan].set_xlabel(\"Time Step\")\n",
        "  for iSig in range(3):\n",
        "    axs[iSig,iChan].set_yticklabels([])\n",
        "    axs[iSig,iChan].set_xticklabels([])\n",
        "\n",
        "axs[0,0].set_ylabel(\"Raw Signal\")\n",
        "axs[1,0].set_ylabel(\"Filtered Signal\")\n",
        "axs[2,0].set_ylabel(\"Cleaned Signal\")\n"
      ],
      "metadata": {
        "id": "oDT3CTGkAa9k"
      },
      "execution_count": null,
      "outputs": []
    },
    {
      "cell_type": "code",
      "source": [
        "# Check how many of the signals were flipped\n",
        "\n",
        "flip = 0\n",
        "for iChan in range(64):\n",
        "  if clean_signal[iChan,0] < 0:\n",
        "    flip += 1\n",
        "\n",
        "print(flip/64)"
      ],
      "metadata": {
        "id": "7IOJF8RyGRTI"
      },
      "execution_count": null,
      "outputs": []
    },
    {
      "cell_type": "markdown",
      "source": [
        "# Training Loss/Accuracy curves"
      ],
      "metadata": {
        "id": "pGZCWrJN-SLr"
      }
    },
    {
      "cell_type": "code",
      "source": [
        "import matplotlib.pyplot as plt\n",
        "import numpy as np"
      ],
      "metadata": {
        "id": "o9eSqIki_xXU"
      },
      "execution_count": null,
      "outputs": []
    },
    {
      "cell_type": "code",
      "source": [
        "# load training histories\n",
        "hist_withDL = np.load('/content/drive/MyDrive/DL Final/FusionWithFlipTrue.npy', allow_pickle=True).item()\n",
        "hist_noDL = np.load('/content/drive/MyDrive/DL Final/FusionNoFlipTrue.npy', allow_pickle=True).item()"
      ],
      "metadata": {
        "id": "NRyc5FdC-aIf"
      },
      "execution_count": null,
      "outputs": []
    },
    {
      "cell_type": "code",
      "source": [
        "# Make train history figure\n",
        "\n",
        "fig, axs = plt.subplots(2,1)\n",
        "\n",
        "axs[0].plot(hist_withDL['loss'], color='red', label='Training - With Data Leak')\n",
        "axs[0].plot(hist_withDL['val_loss'], color='red', linestyle='dashed', label='Validation - With Data Leak')\n",
        "axs[0].plot(hist_noDL['loss'], color='green', label='Training - Without Data Leak')\n",
        "axs[0].plot(hist_noDL['val_loss'], color='green', linestyle='dashed', label='Validation - Without Data Leak')\n",
        "axs[0].legend()\n",
        "axs[0].set_title(\"Loss\")\n",
        "axs[0].set_ylabel(\"Loss\")\n",
        "\n",
        "\n",
        "axs[1].plot(hist_withDL['accuracy'], color='red', label='Training - With Data Leak')\n",
        "axs[1].plot(hist_withDL['val_accuracy'], color='red', linestyle='dashed', label='Validation - With Data Leak')\n",
        "axs[1].plot(hist_noDL['accuracy'], color='green', label='Training - Without Data Leak')\n",
        "axs[1].plot(hist_noDL['val_accuracy'], color='green', linestyle='dashed', label='Validation - Without Data Leak')\n",
        "axs[1].legend()\n",
        "axs[1].set_title(\"Accuracy\")\n",
        "axs[1].set_ylabel(\"Accuracy\")\n",
        "axs[1].set_xlabel(\"Epoch\")\n",
        "\n",
        "\n",
        "fig.set_size_inches(10, 6)\n",
        "fig.suptitle(\"Real Data\")"
      ],
      "metadata": {
        "id": "zZgiec_0AJkP"
      },
      "execution_count": null,
      "outputs": []
    },
    {
      "cell_type": "code",
      "source": [
        "hist_noDL['accuracy']"
      ],
      "metadata": {
        "id": "_y6o-HUsAsxZ"
      },
      "execution_count": null,
      "outputs": []
    },
    {
      "cell_type": "markdown",
      "source": [
        "# Loss/Accuracy Plots for Fake Data"
      ],
      "metadata": {
        "id": "orAYBiFbJjTo"
      }
    },
    {
      "cell_type": "code",
      "source": [
        "# load training histories\n",
        "\n",
        "hist_withDL = np.load('/content/drive/MyDrive/DL Final/fakedata_WithFlip.npy', allow_pickle=True).item()\n",
        "hist_noDL = np.load('/content/drive/MyDrive/DL Final/fakedata_NoFlip.npy', allow_pickle=True).item()"
      ],
      "metadata": {
        "id": "gDfW7jaOJi9p"
      },
      "execution_count": null,
      "outputs": []
    },
    {
      "cell_type": "code",
      "source": [
        "# Make train history (for fake data)\n",
        "\n",
        "fig, axs = plt.subplots(2,1)\n",
        "\n",
        "axs[0].plot(hist_withDL['loss'], color='red', label='Training - With Data Leak')\n",
        "axs[0].plot(hist_withDL['val_loss'], color='red', linestyle='dashed', label='Validation - With Data Leak')\n",
        "axs[0].plot(hist_noDL['loss'], color='green', label='Training - Without Data Leak')\n",
        "axs[0].plot(hist_noDL['val_loss'], color='green', linestyle='dashed', label='Validation - Without Data Leak')\n",
        "axs[0].legend()\n",
        "axs[0].set_title(\"Loss\")\n",
        "axs[0].set_ylabel(\"Loss\")\n",
        "\n",
        "\n",
        "axs[1].plot(hist_withDL['accuracy'], color='red', label='Training - With Data Leak')\n",
        "axs[1].plot(hist_withDL['val_accuracy'], color='red', linestyle='dashed', label='Validation - With Data Leak')\n",
        "axs[1].plot(hist_noDL['accuracy'], color='green', label='Training - Without Data Leak')\n",
        "axs[1].plot(hist_noDL['val_accuracy'], color='green', linestyle='dashed', label='Validation - Without Data Leak')\n",
        "axs[1].legend()\n",
        "axs[1].set_title(\"Accuracy\")\n",
        "axs[1].set_ylabel(\"Accuracy\")\n",
        "axs[1].set_xlabel(\"Epoch\")\n",
        "\n",
        "\n",
        "fig.set_size_inches(10, 6)\n",
        "\n",
        "fig.suptitle(\"Fake Data\")"
      ],
      "metadata": {
        "id": "3jw0XwRSJacc"
      },
      "execution_count": null,
      "outputs": []
    },
    {
      "cell_type": "code",
      "source": [
        "hist_withDL['val_accuracy']"
      ],
      "metadata": {
        "id": "DGvWoACykaLv"
      },
      "execution_count": null,
      "outputs": []
    }
  ]
}